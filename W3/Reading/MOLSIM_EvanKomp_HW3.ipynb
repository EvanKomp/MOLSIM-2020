{
 "cells": [
  {
   "cell_type": "raw",
   "metadata": {},
   "source": [
    "Format of the input files ran in gaussian:\n",
    "## Input\n",
    "%chk=checkpoint_file\n",
    "#HF/STO-3G Opt formcheck\n",
    " \n",
    "CH4_bond_energy\n",
    " \n",
    "0  1\n",
    "C\n",
    "H   1 0.757\n",
    "H   1 1.089000  2  109.4712206\n",
    "H   1 1.089000  2  109.4712206  3  120.0000\n",
    "H   1 1.089000  2  109.4712206  3 -120.0000\n",
    "\n",
    "END\n",
    "\n",
    "## Submit\n",
    "#!/bin/bash\n",
    "#This is an example of basis set projection\n",
    "#SBATCH --job-name=gaussian_testing_ek\n",
    "#SBATCH --output=output.out\n",
    "#SBATCH --time=00:35:00\n",
    "#SBATCH --mem-per-cpu=2000\n",
    "#SBATCH --account=davinci\n",
    "#SBATCH --partition=davinci\n",
    "\n",
    "module load contrib/g16.a03\n",
    "\n",
    "g16 < input.in 1> output.out 2>>error"
   ]
  },
  {
   "cell_type": "code",
   "execution_count": 20,
   "metadata": {},
   "outputs": [],
   "source": [
    "##Results\n",
    "import numpy as np\n",
    "import matplotlib.pyplot as plt\n",
    "\n",
    "method = np.array(['RHF','RHF','RHF','B3LYP','B3LYP','B3LYP'])\n",
    "basis = np.array(['STO-3G','3-21G*','6-31G**','3-21G*','6-31G**','DGDZVP'])\n",
    "energy_au = np.array([-39.7268636737, -39.9768774086, -40.2017047568, -40.3015934205, -40.5240139924, -40.5233616529])\n",
    "cpu = np.array([7.7, 6.9, 8.6, 12.5, 17.4, 15])\n",
    "\n",
    "energy_kjmol = energy_au*2600"
   ]
  },
  {
   "cell_type": "markdown",
   "metadata": {},
   "source": [
    "| Method and Basis | E [au]         | E [kJ]           |\n",
    "|------------------|----------------|------------------|\n",
    "| RHF STO-3G       | -39.7268636737 | -103289.84555162 |\n",
    "| RHF 3-21G*       | -39.9768774086 | -103939.88126236 |\n",
    "| RHF 6-31G**      | -40.2017047568 | -104524.43236768 |\n",
    "| B3LYP 3-21G*     | -40.3015934205 | -104784.1428933  |\n",
    "| B3LYP 6-31G**    | -40.5240139924 | -105362.43638024 |\n",
    "| B3LYP DGDZVP     | -40.5233616529 | -105360.74029754 |"
   ]
  },
  {
   "cell_type": "code",
   "execution_count": 21,
   "metadata": {},
   "outputs": [
    {
     "data": {
      "text/plain": [
       "Text(0.5, 1.0, 'Effect of basis set size on computation time, using DFT B3LYP functional')"
      ]
     },
     "execution_count": 21,
     "metadata": {},
     "output_type": "execute_result"
    },
    {
     "data": {
      "image/png": "[encoded data removed]",
      "text/plain": [
       "<Figure size 432x288 with 1 Axes>"
      ]
     },
     "metadata": {
      "needs_background": "light"
     },
     "output_type": "display_data"
    }
   ],
   "source": [
    "plt.figure()\n",
    "plt.scatter(basis[method == 'B3LYP'], cpu[method == 'B3LYP'], color='r', marker='x')\n",
    "plt.xlabel('Basis set used')\n",
    "plt.ylabel('CPU Job time [s]')\n",
    "plt.title('Effect of basis set size on computation time, using DFT B3LYP functional')"
   ]
  },
  {
   "cell_type": "code",
   "execution_count": null,
   "metadata": {},
   "outputs": [],
   "source": []
  }
 ],
 "metadata": {
  "kernelspec": {
   "display_name": "Python 3",
   "language": "python",
   "name": "python3"
  },
  "language_info": {
   "codemirror_mode": {
    "name": "ipython",
    "version": 3
   },
   "file_extension": ".py",
   "mimetype": "text/x-python",
   "name": "python",
   "nbconvert_exporter": "python",
   "pygments_lexer": "ipython3",
   "version": "3.7.4"
  }
 },
 "nbformat": 4,
 "nbformat_minor": 2
}
